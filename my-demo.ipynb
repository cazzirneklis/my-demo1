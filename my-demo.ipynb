{
 "cells": [
  {
   "cell_type": "code",
   "execution_count": 1,
   "id": "9d31b81f",
   "metadata": {},
   "outputs": [],
   "source": [
    "rent = 500\n",
    "income = 1700\n"
   ]
  },
  {
   "cell_type": "code",
   "execution_count": null,
   "id": "6e1f5ef1",
   "metadata": {},
   "outputs": [],
   "source": [
    "rent_pct = rent/income*100\n",
    "rent_pct"
   ]
  },
  {
   "cell_type": "code",
   "execution_count": 2,
   "id": "195e5c93",
   "metadata": {},
   "outputs": [],
   "source": [
    "my_list = [1,3, 5, 7, 9]"
   ]
  },
  {
   "cell_type": "code",
   "execution_count": 3,
   "id": "70e5cf5a",
   "metadata": {},
   "outputs": [
    {
     "name": "stdout",
     "output_type": "stream",
     "text": [
      "1\n",
      "3\n",
      "5\n",
      "7\n",
      "9\n"
     ]
    }
   ],
   "source": [
    "for number in my_list:\n",
    "    print(number)"
   ]
  },
  {
   "cell_type": "code",
   "execution_count": null,
   "id": "77de13a6",
   "metadata": {},
   "outputs": [],
   "source": []
  }
 ],
 "metadata": {
  "kernelspec": {
   "display_name": "Python 3 (ipykernel)",
   "language": "python",
   "name": "python3"
  },
  "language_info": {
   "codemirror_mode": {
    "name": "ipython",
    "version": 3
   },
   "file_extension": ".py",
   "mimetype": "text/x-python",
   "name": "python",
   "nbconvert_exporter": "python",
   "pygments_lexer": "ipython3",
   "version": "3.9.7"
  }
 },
 "nbformat": 4,
 "nbformat_minor": 5
}
